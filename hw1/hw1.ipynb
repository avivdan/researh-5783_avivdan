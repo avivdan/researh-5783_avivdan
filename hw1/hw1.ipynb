{
 "cells": [
  {
   "cell_type": "markdown",
   "metadata": {},
   "source": [
    "safe_call assumptions was that if we get different  \n",
    "type than it's annotaions so we throw an error"
   ]
  },
  {
   "cell_type": "code",
   "execution_count": 1,
   "metadata": {},
   "outputs": [
    {
     "name": "stdout",
     "output_type": "stream",
     "text": [
      "Trying:\n",
      "    safe_call(wow,x=5, y=1.0, z=3)\n",
      "Expecting:\n",
      "    15.0\n",
      "ok\n",
      "Trying:\n",
      "    safe_call(return_of_wow,x=5, y=1.0)\n",
      "Expecting:\n",
      "    6.0\n",
      "ok\n",
      "Trying:\n",
      "    safe_call(return_of_wow,x=5.0, y=1.0)\n",
      "Expecting:\n",
      "    Traceback (most recent call last):\n",
      "        ...\n",
      "    Exception: value type is diff from func value type\n",
      "ok\n",
      "Trying:\n",
      "    safe_call(wow,x=5, y=1, z=3)\n",
      "Expecting:\n",
      "    Traceback (most recent call last):\n",
      "        ...\n",
      "    Exception: value type is diff from func value type\n",
      "ok\n",
      "3 items had no tests:\n",
      "    __main__\n",
      "    __main__.return_of_wow\n",
      "    __main__.wow\n",
      "1 items passed all tests:\n",
      "   4 tests in __main__.safe_call\n",
      "4 tests in 4 items.\n",
      "4 passed and 0 failed.\n",
      "Test passed.\n"
     ]
    }
   ],
   "source": [
    "\n",
    "def wow(x:int = 2, y:float=9.3, z = 4)->float:\n",
    "    return x*y*z\n",
    "\n",
    "def return_of_wow(x:int = 2, y:float = 2.0)->float:\n",
    "    return x+y\n",
    "\n",
    "def safe_call(func, **kwargs):\n",
    "    '''\n",
    "    >>> safe_call(wow,x=5, y=1.0, z=3)\n",
    "    15.0\n",
    "    >>> safe_call(return_of_wow,x=5, y=1.0)\n",
    "    6.0\n",
    "    >>> safe_call(return_of_wow,x=5.0, y=1.0)\n",
    "    Traceback (most recent call last):\n",
    "        ...\n",
    "    Exception: value type is diff from func value type\n",
    "    >>> safe_call(wow,x=5, y=1, z=3)\n",
    "    Traceback (most recent call last):\n",
    "        ...\n",
    "    Exception: value type is diff from func value type\n",
    "    '''\n",
    "    for key in func.__annotations__.keys():#keys are the names such as x:, y: and etc\n",
    "        # check annotations types vs kwargs types\n",
    "        if(type(kwargs.get(key)) != func.__annotations__.get(key) and key != 'return'):\n",
    "            raise Exception(\"value type is diff from func value type\") \n",
    "    return func(**kwargs) #return func with values in \n",
    "\n",
    "if __name__ == \"__main__\":\n",
    "    import doctest\n",
    "    doctest.testmod(verbose=True)\n"
   ]
  },
  {
   "cell_type": "code",
   "execution_count": null,
   "metadata": {},
   "outputs": [],
   "source": [
    "'''\n",
    "reconstruct idea was from this stackoverflow link : https://stackoverflow.com/questions/8922060/how-to-trace-the-path-in-a-breadth-first-search\n",
    "and wikipidia psudocode\n",
    "'''\n",
    "#used this 2  def for easy doctest\n",
    "def eight_neighbor_function(node:any)->list:\n",
    "    (x,y) = node\n",
    "    return [(x+1,y),(x,y+1),(x-1,y),(x,y-1),(x+1,y+1),(x-1,y+1),(x-1,y-1),(x+1,y-1)]\n",
    "\n",
    "def two_neighbor_function(node:any)->list:\n",
    "    (x) = node\n",
    "    return [(x+1),(x-1)]\n",
    "\n",
    "def bfs(start, end, func):\n",
    "    '''\n",
    "    >>> bfs((0),(2), two_neighbor_function)\n",
    "    [0, 1, 2]\n",
    "    >>> bfs((0,0),(2,2), eight_neighbor_function)\n",
    "    [(0, 0), (1, 1), (2, 2)]\n",
    "    '''\n",
    "    visited=[]\n",
    "    queue = []\n",
    "    visited.append(start)\n",
    "    queue.append([start])\n",
    "    while len(queue) > 0:\n",
    "        path = queue.pop(0)\n",
    "        v = path[-1]#last node\n",
    "        if v == end:\n",
    "            return path\n",
    "        for node in func(v):\n",
    "            if visited.count(node) < 1:\n",
    "                new_path = path.copy() #by value and not reference\n",
    "                new_path.append(node)\n",
    "                visited.append(node)#explored node\n",
    "                queue.append(new_path)#add path with new node\n",
    "    return [] #in case all nodes explored\n",
    "                \n",
    "if __name__ == \"__main__\":\n",
    "    import doctest\n",
    "    doctest.testmod(verbose=True)"
   ]
  },
  {
   "cell_type": "markdown",
   "metadata": {},
   "source": [
    "I didn't add run run demo since the use of doctest made it to me not essential "
   ]
  }
 ],
 "metadata": {
  "kernelspec": {
   "display_name": "Python 3.10.8 64-bit (microsoft store)",
   "language": "python",
   "name": "python3"
  },
  "language_info": {
   "codemirror_mode": {
    "name": "ipython",
    "version": 3
   },
   "file_extension": ".py",
   "mimetype": "text/x-python",
   "name": "python",
   "nbconvert_exporter": "python",
   "pygments_lexer": "ipython3",
   "version": "3.10.8"
  },
  "orig_nbformat": 4,
  "vscode": {
   "interpreter": {
    "hash": "93c137ec73f1c1c5535bca0033346bf7fbbe1dcac4ffdf99a16bfe3dd207ef35"
   }
  }
 },
 "nbformat": 4,
 "nbformat_minor": 2
}
