{
 "cells": [
  {
   "cell_type": "markdown",
   "metadata": {},
   "source": [
    "We use regex that have 3 parts\n",
    "- At first we make sure that we dont use chars other thenwhat we see there <br/>\n",
    "and not finish with '.','-','_'.\n",
    "- Second after @ we make sure to use only alphanuericals\n",
    "- At last we are want to not have 2 dots in a "
   ]
  },
  {
   "cell_type": "code",
   "execution_count": 57,
   "metadata": {},
   "outputs": [],
   "source": [
    "import re\n",
    "reg = r'([A-Za-z0-9]+[._-])*[A-Za-z0-9]+@([A-Za-z0-9-]*)+.[A-Za-z0-9]{2,}'\n",
    "regex = re.compile(reg) \n",
    "def isValid(first):\n",
    "    if re.fullmatch(regex, first):\n",
    "      return True\n",
    "    else:\n",
    "      return False"
   ]
  },
  {
   "cell_type": "code",
   "execution_count": 60,
   "metadata": {},
   "outputs": [],
   "source": [
    "\n",
    "def check_emails(text:str = \"emails.txt\"):\n",
    "    valid=[]\n",
    "    not_valid =[]\n",
    "    with open(text,'r') as file:\n",
    "        # reading each line    \n",
    "        for line in file:\n",
    "            # reading each word        \n",
    "            for word in line.split():\n",
    "                # displaying the words           \n",
    "                if(word.find('@') != -1 and word.find('.') != -1):\n",
    "                    if isValid(word):\n",
    "                        valid.append(word)\n",
    "                    else:\n",
    "                        not_valid.append(word)\n",
    "        "
   ]
  },
  {
   "cell_type": "code",
   "execution_count": 61,
   "metadata": {},
   "outputs": [
    {
     "name": "stdout",
     "output_type": "stream",
     "text": [
      ".abc@mail.com  :  Invalid\n",
      "iv@gma-il.com  :  valid\n",
      "abc.def@mail.cc  :  valid\n",
      "abc.def@mail#archive.com  :  Invalid\n",
      "abc.def@mail-archive.com  :  valid\n",
      "abc.def@mail  :  valid\n",
      "abc.def@mail.org  :  valid\n",
      "abc.def@mail..com  :  Invalid\n",
      "abc.def@mail.com  :  valid\n"
     ]
    }
   ],
   "source": [
    "check_emails()"
   ]
  }
 ],
 "metadata": {
  "kernelspec": {
   "display_name": "Python 3.10.8 64-bit (microsoft store)",
   "language": "python",
   "name": "python3"
  },
  "language_info": {
   "codemirror_mode": {
    "name": "ipython",
    "version": 3
   },
   "file_extension": ".py",
   "mimetype": "text/x-python",
   "name": "python",
   "nbconvert_exporter": "python",
   "pygments_lexer": "ipython3",
   "version": "3.10.8"
  },
  "orig_nbformat": 4,
  "vscode": {
   "interpreter": {
    "hash": "93c137ec73f1c1c5535bca0033346bf7fbbe1dcac4ffdf99a16bfe3dd207ef35"
   }
  }
 },
 "nbformat": 4,
 "nbformat_minor": 2
}
