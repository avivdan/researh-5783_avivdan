{
 "cells": [
  {
   "cell_type": "code",
   "execution_count": 52,
   "metadata": {},
   "outputs": [],
   "source": [
    "class List(list):\n",
    "    def __getitem__(self, item):\n",
    "        ans = list(self)\n",
    "        if(type(item) == int):\n",
    "            return ans[item]\n",
    "        for key in item:\n",
    "            # print(ans[1])\n",
    "            if type(ans) != List and type(ans) != list:\n",
    "                return ans\n",
    "            ans = ans[key]\n",
    "        return ans\n",
    "            "
   ]
  },
  {
   "cell_type": "code",
   "execution_count": 53,
   "metadata": {},
   "outputs": [],
   "source": [
    "check_list = List([[[1, 2, 3, 33], [4, 5, 6, 66]], [[7, 8, 9, 99], [10, 11, 12, 122]], [[13, 14, 15, 155], [16, 17, 18, 188]]])"
   ]
  },
  {
   "cell_type": "code",
   "execution_count": 54,
   "metadata": {},
   "outputs": [
    {
     "name": "stdout",
     "output_type": "stream",
     "text": [
      "[[1, 2, 3, 33], [4, 5, 6, 66]]\n"
     ]
    }
   ],
   "source": [
    "print(check_list[0])"
   ]
  }
 ],
 "metadata": {
  "kernelspec": {
   "display_name": "Python 3.10.8 64-bit (microsoft store)",
   "language": "python",
   "name": "python3"
  },
  "language_info": {
   "codemirror_mode": {
    "name": "ipython",
    "version": 3
   },
   "file_extension": ".py",
   "mimetype": "text/x-python",
   "name": "python",
   "nbconvert_exporter": "python",
   "pygments_lexer": "ipython3",
   "version": "3.10.8"
  },
  "orig_nbformat": 4,
  "vscode": {
   "interpreter": {
    "hash": "93c137ec73f1c1c5535bca0033346bf7fbbe1dcac4ffdf99a16bfe3dd207ef35"
   }
  }
 },
 "nbformat": 4,
 "nbformat_minor": 2
}
