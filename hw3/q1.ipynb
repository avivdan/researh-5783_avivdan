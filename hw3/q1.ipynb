{
 "cells": [
  {
   "cell_type": "code",
   "execution_count": null,
   "metadata": {},
   "outputs": [],
   "source": [
    "class RangeIterator:\n",
    "    def __init__(self, first, end, step=1):\n",
    "        self.state = first\n",
    "        self.end = end\n",
    "        self.step = step\n",
    "\n",
    "    def __iter__(self):\n",
    "        return self\n",
    "\n",
    "    def __next__(self):\n",
    "        if self.state >= self.end:\n",
    "            raise StopIteration\n",
    "        res = self.state\n",
    "        self.state += self.step\n",
    "        return res"
   ]
  },
  {
   "cell_type": "code",
   "execution_count": null,
   "metadata": {},
   "outputs": [],
   "source": [
    "class bounded_subsets:\n",
    "    \n",
    "    def __init__(self, lst, to: int):\n",
    "        self.numbers = list(lst)  \n",
    "        self.to = to\n",
    "        self.len_numbers = len(lst)\n",
    "        self.results = []\n",
    "        if(type(lst) != range):\n",
    "            self.numbers.sort()  \n",
    "    \n",
    "    def __iter__(self):\n",
    "        return self\n",
    "    \n",
    "    def __next__(self):\n",
    "        if len(self.results) != 0:\n",
    "            return self.results.pop()  \n",
    "\n",
    "        while self.curr_sum <= self.target:\n",
    "            if self.sub_list_sum(len(self.numbers) - 1, len(self.curr_sum)) is True:\n",
    "                self.curr_sum += 1\n",
    "                return self.results.pop()\n",
    "            self.curr_sum += 1  # Either way we need to add 1\n",
    "\n",
    "        # When we are done to go throw all the option\n",
    "        raise StopIteration\n"
   ]
  },
  {
   "cell_type": "code",
   "execution_count": null,
   "metadata": {},
   "outputs": [],
   "source": []
  },
  {
   "cell_type": "code",
   "execution_count": 8,
   "metadata": {},
   "outputs": [],
   "source": [
    "per = []"
   ]
  },
  {
   "cell_type": "code",
   "execution_count": 37,
   "metadata": {},
   "outputs": [],
   "source": [
    "def return_all_permutations(wow:list, sum)->list:\n",
    "    multilist = []\n",
    "    for i in range(len(wow)):\n",
    "        a = wow\n",
    "        g = sum - a.pop(i)\n",
    "        if(g >= a[0]):\n",
    "            multilist.append(return_all_permutations(a, sum - g))\n",
    "    return multilist\n",
    "    "
   ]
  },
  {
   "cell_type": "code",
   "execution_count": 38,
   "metadata": {},
   "outputs": [
    {
     "ename": "IndexError",
     "evalue": "pop index out of range",
     "output_type": "error",
     "traceback": [
      "\u001b[1;31m---------------------------------------------------------------------------\u001b[0m",
      "\u001b[1;31mIndexError\u001b[0m                                Traceback (most recent call last)",
      "Cell \u001b[1;32mIn[38], line 1\u001b[0m\n\u001b[1;32m----> 1\u001b[0m return_all_permutations([\u001b[39m1\u001b[39;49m,\u001b[39m2\u001b[39;49m,\u001b[39m3\u001b[39;49m],\u001b[39m4\u001b[39;49m)\n",
      "Cell \u001b[1;32mIn[37], line 7\u001b[0m, in \u001b[0;36mreturn_all_permutations\u001b[1;34m(wow, sum)\u001b[0m\n\u001b[0;32m      5\u001b[0m     g \u001b[39m=\u001b[39m \u001b[39msum\u001b[39m \u001b[39m-\u001b[39m a\u001b[39m.\u001b[39mpop(i)\n\u001b[0;32m      6\u001b[0m     \u001b[39mif\u001b[39;00m(g \u001b[39m>\u001b[39m\u001b[39m=\u001b[39m a[\u001b[39m0\u001b[39m]):\n\u001b[1;32m----> 7\u001b[0m         multilist\u001b[39m.\u001b[39mappend(return_all_permutations(a, \u001b[39msum\u001b[39;49m \u001b[39m-\u001b[39;49m g))\n\u001b[0;32m      8\u001b[0m \u001b[39mreturn\u001b[39;00m multilist\n",
      "Cell \u001b[1;32mIn[37], line 5\u001b[0m, in \u001b[0;36mreturn_all_permutations\u001b[1;34m(wow, sum)\u001b[0m\n\u001b[0;32m      3\u001b[0m \u001b[39mfor\u001b[39;00m i \u001b[39min\u001b[39;00m \u001b[39mrange\u001b[39m(\u001b[39mlen\u001b[39m(wow)):\n\u001b[0;32m      4\u001b[0m     a \u001b[39m=\u001b[39m wow\n\u001b[1;32m----> 5\u001b[0m     g \u001b[39m=\u001b[39m \u001b[39msum\u001b[39m \u001b[39m-\u001b[39m a\u001b[39m.\u001b[39;49mpop(i)\n\u001b[0;32m      6\u001b[0m     \u001b[39mif\u001b[39;00m(g \u001b[39m>\u001b[39m\u001b[39m=\u001b[39m a[\u001b[39m0\u001b[39m]):\n\u001b[0;32m      7\u001b[0m         multilist\u001b[39m.\u001b[39mappend(return_all_permutations(a, \u001b[39msum\u001b[39m \u001b[39m-\u001b[39m g))\n",
      "\u001b[1;31mIndexError\u001b[0m: pop index out of range"
     ]
    }
   ],
   "source": [
    "return_all_permutations([1,2,3],4)"
   ]
  },
  {
   "cell_type": "code",
   "execution_count": 43,
   "metadata": {},
   "outputs": [
    {
     "ename": "ValueError",
     "evalue": "too many values to unpack (expected 2)",
     "output_type": "error",
     "traceback": [
      "\u001b[1;31m---------------------------------------------------------------------------\u001b[0m",
      "\u001b[1;31mValueError\u001b[0m                                Traceback (most recent call last)",
      "Cell \u001b[1;32mIn[43], line 24\u001b[0m\n\u001b[0;32m     20\u001b[0m     \u001b[39mreturn\u001b[39;00m current\n\u001b[0;32m     23\u001b[0m food \u001b[39m=\u001b[39m []\n\u001b[1;32m---> 24\u001b[0m w, h \u001b[39m=\u001b[39m [\u001b[39mint\u001b[39m(i) \u001b[39mfor\u001b[39;00m i \u001b[39min\u001b[39;00m \u001b[39minput\u001b[39m()\u001b[39m.\u001b[39msplit()]\n\u001b[0;32m     25\u001b[0m \u001b[39mfor\u001b[39;00m i \u001b[39min\u001b[39;00m \u001b[39mrange\u001b[39m(h):\n\u001b[0;32m     26\u001b[0m     food\u001b[39m.\u001b[39mappend([])\n",
      "\u001b[1;31mValueError\u001b[0m: too many values to unpack (expected 2)"
     ]
    }
   ],
   "source": [
    "import sys\n",
    "import math\n",
    "\n",
    "\n",
    "def get(x=0, y=0):\n",
    "    global food\n",
    "    global w\n",
    "    global h\n",
    "\n",
    "    current = food[y][x]\n",
    "    if x + 1 >= w:\n",
    "        right = 0\n",
    "    else:\n",
    "        right = get(x + 1, y)\n",
    "    if y + 1 >= h:\n",
    "        down = 0\n",
    "    else:\n",
    "        down = get(x, y + 1)\n",
    "    current += (right, down)[down > right]\n",
    "    return current\n",
    "\n",
    "\n",
    "food = []\n",
    "w, h = [int(i) for i in input().split()]\n",
    "for i in range(h):\n",
    "    food.append([])\n",
    "    for j in input().split():\n",
    "        food[i].append(int(j))\n",
    "print(food, file=sys.stderr)\n",
    "# Write an action using print\n",
    "# To debug: print(\"Debug messages...\", file=sys.stderr)\n",
    "\n",
    "print(get())    "
   ]
  },
  {
   "cell_type": "code",
   "execution_count": null,
   "metadata": {},
   "outputs": [],
   "source": []
  },
  {
   "cell_type": "code",
   "execution_count": 7,
   "metadata": {},
   "outputs": [
    {
     "name": "stdout",
     "output_type": "stream",
     "text": [
      "0  as i-  -as j  1\n",
      "0  as i-  -as j  2\n",
      "0  as i-  -as j  3\n",
      "0  as i-  -as j  4\n",
      "0  as i-  -as j  5\n",
      "0  as i-  -as j  6\n",
      "1  as i-  -as j  2\n",
      "1  as i-  -as j  3\n",
      "1  as i-  -as j  4\n",
      "1  as i-  -as j  5\n",
      "1  as i-  -as j  6\n",
      "2  as i-  -as j  3\n",
      "2  as i-  -as j  4\n",
      "2  as i-  -as j  5\n",
      "2  as i-  -as j  6\n",
      "3  as i-  -as j  4\n",
      "3  as i-  -as j  5\n",
      "3  as i-  -as j  6\n",
      "4  as i-  -as j  5\n",
      "4  as i-  -as j  6\n",
      "5  as i-  -as j  6\n"
     ]
    }
   ],
   "source": [
    "for i in range(7):\n",
    "    for j in range(i+1,7):\n",
    "        print(i, \" as i-  -as j \", j)\n",
    "        "
   ]
  }
 ],
 "metadata": {
  "kernelspec": {
   "display_name": "Python 3.10.8 64-bit (microsoft store)",
   "language": "python",
   "name": "python3"
  },
  "language_info": {
   "codemirror_mode": {
    "name": "ipython",
    "version": 3
   },
   "file_extension": ".py",
   "mimetype": "text/x-python",
   "name": "python",
   "nbconvert_exporter": "python",
   "pygments_lexer": "ipython3",
   "version": "3.10.8"
  },
  "orig_nbformat": 4,
  "vscode": {
   "interpreter": {
    "hash": "93c137ec73f1c1c5535bca0033346bf7fbbe1dcac4ffdf99a16bfe3dd207ef35"
   }
  }
 },
 "nbformat": 4,
 "nbformat_minor": 2
}
